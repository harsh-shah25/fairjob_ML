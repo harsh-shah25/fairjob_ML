{
 "cells": [
  {
   "cell_type": "markdown",
   "id": "4c0a16fb",
   "metadata": {},
   "source": [
    "Only 0.7% ads were clicked"
   ]
  },
  {
   "cell_type": "markdown",
   "id": "a029d8c3",
   "metadata": {},
   "source": []
  },
  {
   "cell_type": "markdown",
   "id": "46ffdbc6",
   "metadata": {},
   "source": []
  }
 ],
 "metadata": {
  "language_info": {
   "name": "python"
  }
 },
 "nbformat": 4,
 "nbformat_minor": 5
}
