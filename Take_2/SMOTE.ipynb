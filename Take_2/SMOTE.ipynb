{
 "cells": [
  {
   "cell_type": "code",
   "execution_count": 13,
   "id": "3e20cb2b",
   "metadata": {},
   "outputs": [],
   "source": [
    "import numpy as np\n",
    "import pandas as pd\n",
    "import seaborn as sns\n",
    "import matplotlib.pyplot as plt\n"
   ]
  },
  {
   "cell_type": "code",
   "execution_count": 2,
   "id": "013f5e2d",
   "metadata": {},
   "outputs": [],
   "source": [
    "raw_df = pd.read_csv('../fairjob.csv')"
   ]
  },
  {
   "cell_type": "code",
   "execution_count": 3,
   "id": "f6ff3bd9",
   "metadata": {},
   "outputs": [
    {
     "data": {
      "text/html": [
       "<div>\n",
       "<style scoped>\n",
       "    .dataframe tbody tr th:only-of-type {\n",
       "        vertical-align: middle;\n",
       "    }\n",
       "\n",
       "    .dataframe tbody tr th {\n",
       "        vertical-align: top;\n",
       "    }\n",
       "\n",
       "    .dataframe thead th {\n",
       "        text-align: right;\n",
       "    }\n",
       "</style>\n",
       "<table border=\"1\" class=\"dataframe\">\n",
       "  <thead>\n",
       "    <tr style=\"text-align: right;\">\n",
       "      <th></th>\n",
       "      <th>click</th>\n",
       "      <th>protected_attribute</th>\n",
       "      <th>senior</th>\n",
       "      <th>displayrandom</th>\n",
       "      <th>rank</th>\n",
       "      <th>user_id</th>\n",
       "      <th>impression_id</th>\n",
       "      <th>product_id</th>\n",
       "      <th>cat0</th>\n",
       "      <th>cat1</th>\n",
       "      <th>...</th>\n",
       "      <th>num41</th>\n",
       "      <th>num42</th>\n",
       "      <th>num43</th>\n",
       "      <th>num44</th>\n",
       "      <th>num45</th>\n",
       "      <th>num46</th>\n",
       "      <th>num47</th>\n",
       "      <th>num48</th>\n",
       "      <th>num49</th>\n",
       "      <th>num50</th>\n",
       "    </tr>\n",
       "  </thead>\n",
       "  <tbody>\n",
       "    <tr>\n",
       "      <th>0</th>\n",
       "      <td>0</td>\n",
       "      <td>0</td>\n",
       "      <td>1</td>\n",
       "      <td>1</td>\n",
       "      <td>1</td>\n",
       "      <td>31020</td>\n",
       "      <td>175316</td>\n",
       "      <td>45953</td>\n",
       "      <td>6</td>\n",
       "      <td>6</td>\n",
       "      <td>...</td>\n",
       "      <td>-0.333033</td>\n",
       "      <td>-0.542801</td>\n",
       "      <td>0.074884</td>\n",
       "      <td>-0.751637</td>\n",
       "      <td>-0.299223</td>\n",
       "      <td>-0.647541</td>\n",
       "      <td>-0.252768</td>\n",
       "      <td>-0.577173</td>\n",
       "      <td>-0.264359</td>\n",
       "      <td>-0.737299</td>\n",
       "    </tr>\n",
       "    <tr>\n",
       "      <th>1</th>\n",
       "      <td>0</td>\n",
       "      <td>0</td>\n",
       "      <td>1</td>\n",
       "      <td>0</td>\n",
       "      <td>3</td>\n",
       "      <td>515</td>\n",
       "      <td>129699</td>\n",
       "      <td>10569</td>\n",
       "      <td>8</td>\n",
       "      <td>8</td>\n",
       "      <td>...</td>\n",
       "      <td>-0.333033</td>\n",
       "      <td>-0.542801</td>\n",
       "      <td>-0.258659</td>\n",
       "      <td>0.503731</td>\n",
       "      <td>-0.523668</td>\n",
       "      <td>1.088225</td>\n",
       "      <td>0.935563</td>\n",
       "      <td>-0.577173</td>\n",
       "      <td>0.507790</td>\n",
       "      <td>0.610287</td>\n",
       "    </tr>\n",
       "    <tr>\n",
       "      <th>2</th>\n",
       "      <td>0</td>\n",
       "      <td>1</td>\n",
       "      <td>1</td>\n",
       "      <td>0</td>\n",
       "      <td>1</td>\n",
       "      <td>12859</td>\n",
       "      <td>134573</td>\n",
       "      <td>51550</td>\n",
       "      <td>6</td>\n",
       "      <td>6</td>\n",
       "      <td>...</td>\n",
       "      <td>-0.333033</td>\n",
       "      <td>-0.542801</td>\n",
       "      <td>-0.236209</td>\n",
       "      <td>-0.111510</td>\n",
       "      <td>0.084159</td>\n",
       "      <td>0.422154</td>\n",
       "      <td>-0.160055</td>\n",
       "      <td>-0.577173</td>\n",
       "      <td>-0.264359</td>\n",
       "      <td>-0.063506</td>\n",
       "    </tr>\n",
       "    <tr>\n",
       "      <th>3</th>\n",
       "      <td>0</td>\n",
       "      <td>1</td>\n",
       "      <td>1</td>\n",
       "      <td>0</td>\n",
       "      <td>1</td>\n",
       "      <td>18781</td>\n",
       "      <td>84169</td>\n",
       "      <td>17843</td>\n",
       "      <td>3</td>\n",
       "      <td>3</td>\n",
       "      <td>...</td>\n",
       "      <td>-0.333033</td>\n",
       "      <td>-0.542801</td>\n",
       "      <td>-0.393358</td>\n",
       "      <td>-0.987701</td>\n",
       "      <td>-0.523668</td>\n",
       "      <td>-0.778977</td>\n",
       "      <td>-0.345480</td>\n",
       "      <td>-0.577173</td>\n",
       "      <td>4.368537</td>\n",
       "      <td>-0.996450</td>\n",
       "    </tr>\n",
       "    <tr>\n",
       "      <th>4</th>\n",
       "      <td>0</td>\n",
       "      <td>0</td>\n",
       "      <td>1</td>\n",
       "      <td>0</td>\n",
       "      <td>9</td>\n",
       "      <td>19283</td>\n",
       "      <td>76506</td>\n",
       "      <td>11354</td>\n",
       "      <td>8</td>\n",
       "      <td>8</td>\n",
       "      <td>...</td>\n",
       "      <td>-0.333033</td>\n",
       "      <td>-0.542801</td>\n",
       "      <td>1.553377</td>\n",
       "      <td>-0.636441</td>\n",
       "      <td>-0.523668</td>\n",
       "      <td>-0.541088</td>\n",
       "      <td>-0.345480</td>\n",
       "      <td>-0.577173</td>\n",
       "      <td>-0.264359</td>\n",
       "      <td>-0.581808</td>\n",
       "    </tr>\n",
       "  </tbody>\n",
       "</table>\n",
       "<p>5 rows × 56 columns</p>\n",
       "</div>"
      ],
      "text/plain": [
       "   click  protected_attribute  senior  displayrandom  rank  user_id  \\\n",
       "0      0                    0       1              1     1    31020   \n",
       "1      0                    0       1              0     3      515   \n",
       "2      0                    1       1              0     1    12859   \n",
       "3      0                    1       1              0     1    18781   \n",
       "4      0                    0       1              0     9    19283   \n",
       "\n",
       "   impression_id  product_id  cat0  cat1  ...     num41     num42     num43  \\\n",
       "0         175316       45953     6     6  ... -0.333033 -0.542801  0.074884   \n",
       "1         129699       10569     8     8  ... -0.333033 -0.542801 -0.258659   \n",
       "2         134573       51550     6     6  ... -0.333033 -0.542801 -0.236209   \n",
       "3          84169       17843     3     3  ... -0.333033 -0.542801 -0.393358   \n",
       "4          76506       11354     8     8  ... -0.333033 -0.542801  1.553377   \n",
       "\n",
       "      num44     num45     num46     num47     num48     num49     num50  \n",
       "0 -0.751637 -0.299223 -0.647541 -0.252768 -0.577173 -0.264359 -0.737299  \n",
       "1  0.503731 -0.523668  1.088225  0.935563 -0.577173  0.507790  0.610287  \n",
       "2 -0.111510  0.084159  0.422154 -0.160055 -0.577173 -0.264359 -0.063506  \n",
       "3 -0.987701 -0.523668 -0.778977 -0.345480 -0.577173  4.368537 -0.996450  \n",
       "4 -0.636441 -0.523668 -0.541088 -0.345480 -0.577173 -0.264359 -0.581808  \n",
       "\n",
       "[5 rows x 56 columns]"
      ]
     },
     "execution_count": 3,
     "metadata": {},
     "output_type": "execute_result"
    }
   ],
   "source": [
    "raw_df.head()\n"
   ]
  },
  {
   "cell_type": "code",
   "execution_count": 4,
   "id": "be7441a6",
   "metadata": {},
   "outputs": [],
   "source": [
    "raw_df.drop(columns=['user_id','product_id','impression_id'], inplace=True)"
   ]
  },
  {
   "cell_type": "code",
   "execution_count": 5,
   "id": "bff43a3d",
   "metadata": {},
   "outputs": [],
   "source": [
    "raw_df.rename(columns={'protected_attribute':'gender'}, inplace=True)"
   ]
  },
  {
   "cell_type": "code",
   "execution_count": 6,
   "id": "934277e6",
   "metadata": {},
   "outputs": [],
   "source": [
    "unaware_raw_df = raw_df.drop(columns=['gender'])"
   ]
  },
  {
   "cell_type": "code",
   "execution_count": 8,
   "id": "b4f06a03",
   "metadata": {},
   "outputs": [],
   "source": [
    "cat_features = [f'cat{i}' for i in range(0, 13)]\n",
    "num_features = [f'num{i}' for i in range(16,51 )]\n",
    "known_features = ['gender', 'senior', 'displayrandom', 'rank']\n"
   ]
  },
  {
   "cell_type": "code",
   "execution_count": 9,
   "id": "d6a6d2b3",
   "metadata": {},
   "outputs": [],
   "source": [
    "corr_matrix = raw_df.corr(numeric_only=True)# absolute value (ignore sign)"
   ]
  },
  {
   "cell_type": "code",
   "execution_count": 14,
   "id": "0538b085",
   "metadata": {},
   "outputs": [
    {
     "data": {
      "image/png": "[encoded data removed]",
      "text/plain": [
       "<Figure size 1000x800 with 2 Axes>"
      ]
     },
     "metadata": {},
     "output_type": "display_data"
    }
   ],
   "source": [
    "plt.figure(figsize=(10, 8))\n",
    "sns.heatmap(corr_matrix, cmap='coolwarm', fmt=\".2f\")\n",
    "plt.title(\"Feature Correlation Matrix before PCA\")\n",
    "plt.show()"
   ]
  },
  {
   "cell_type": "code",
   "execution_count": null,
   "id": "ebc36c2b",
   "metadata": {},
   "outputs": [],
   "source": [
    "utriangular = corr_matrix.where(np.triu(np.ones(corr_matrix.shape), k=1).astype(bool))\n",
    "to_drop = [column for column in utriangular.columns if any(utriangular[column] > 0.9)]\n",
    "num_features = [f for f in num_features if f not in to_drop]"
   ]
  },
  {
   "cell_type": "code",
   "execution_count": null,
   "id": "3728855a",
   "metadata": {},
   "outputs": [],
   "source": []
  },
  {
   "cell_type": "code",
   "execution_count": null,
   "id": "08c78df4",
   "metadata": {},
   "outputs": [
    {
     "data": {
      "text/plain": [
       "['num34',\n",
       " 'num36',\n",
       " 'num39',\n",
       " 'num40',\n",
       " 'num41',\n",
       " 'num42',\n",
       " 'num43',\n",
       " 'num46',\n",
       " 'num47',\n",
       " 'num48',\n",
       " 'num50']"
      ]
     },
     "execution_count": 16,
     "metadata": {},
     "output_type": "execute_result"
    }
   ],
   "source": [
    "to_drop"
   ]
  },
  {
   "cell_type": "markdown",
   "id": "84663146",
   "metadata": {},
   "source": [
    "<font color='#001affff'>the columns ['num34', 'num36', 'num39', 'num40', 'num41', 'num42', 'num43', 'num46', 'num47', 'num48', 'num50'] will be dropped"
   ]
  },
  {
   "cell_type": "code",
   "execution_count": 27,
   "id": "a257815d",
   "metadata": {},
   "outputs": [
    {
     "name": "stdout",
     "output_type": "stream",
     "text": [
      "(1072226, 42)\n"
     ]
    }
   ],
   "source": [
    "raw_df_nosim = raw_df.drop(columns=to_drop)\n",
    "print(raw_df_nosim.shape)"
   ]
  },
  {
   "cell_type": "code",
   "execution_count": 37,
   "id": "ce5ee9be",
   "metadata": {},
   "outputs": [
    {
     "data": {
      "text/plain": [
       "Index(['click', 'gender', 'senior', 'displayrandom', 'rank', 'cat0', 'cat1',\n",
       "       'cat2', 'cat3', 'cat4', 'cat5', 'cat6', 'cat7', 'cat8', 'cat9', 'cat10',\n",
       "       'cat11', 'cat12', 'num16', 'num17', 'num18', 'num19', 'num20', 'num21',\n",
       "       'num22', 'num23', 'num24', 'num25', 'num26', 'num27', 'num28', 'num29',\n",
       "       'num30', 'num31', 'num32', 'num33', 'num35', 'num37', 'num38', 'num44',\n",
       "       'num45', 'num49'],\n",
       "      dtype='object')"
      ]
     },
     "execution_count": 37,
     "metadata": {},
     "output_type": "execute_result"
    }
   ],
   "source": [
    "raw_df_nosim.columns"
   ]
  },
  {
   "cell_type": "code",
   "execution_count": 42,
   "id": "bcc935cb",
   "metadata": {},
   "outputs": [],
   "source": [
    "from sklearn.model_selection import train_test_split\n",
    "\n",
    "X_train, X_test, y_train, y_test = train_test_split(raw_df_nosim.drop(columns=['click']), raw_df_nosim['click'], test_size=0.2, random_state=42, stratify=raw_df_nosim['click'])"
   ]
  },
  {
   "cell_type": "code",
   "execution_count": 43,
   "id": "80921c49",
   "metadata": {},
   "outputs": [],
   "source": [
    "from sklearn.model_selection import train_test_split\n",
    "from category_encoders import TargetEncoder\n",
    "from sklearn.preprocessing import OneHotEncoder\n",
    "from sklearn.feature_extraction import FeatureHasher\n",
    "from scipy.sparse import hstack\n",
    "\n",
    "\n",
    "target = 'click'\n",
    "\n",
    "# ---- Divide categorical columns by cardinality ----\n",
    "low_card_cols = [col for col in cat_features if raw_df_nosim[col].nunique() < 150]\n",
    "mid_card_cols = [col for col in cat_features if 150 <= raw_df_nosim[col].nunique() <= 1000]\n",
    "high_card_cols = [col for col in cat_features if raw_df_nosim[col].nunique() > 1000]\n",
    "\n",
    "\n",
    "# ---- Target Encoder for medium cardinality ----\n",
    "target_enc = TargetEncoder(cols=mid_card_cols)\n",
    "train_target_encoded = target_enc.fit_transform(X_train[mid_card_cols], y_train)\n",
    "test_target_encoded = target_enc.transform(X_test[mid_card_cols])\n",
    "\n",
    "# ---- One-Hot Encoder for low cardinality ----\n",
    "ohe = OneHotEncoder(handle_unknown='ignore', sparse_output=True)\n",
    "train_ohe = ohe.fit_transform(X_train[low_card_cols])\n",
    "test_ohe = ohe.transform(X_test[low_card_cols])\n",
    "\n",
    "# ---- Hashing for high cardinality ----\n",
    "hasher = FeatureHasher(n_features=128, input_type='string')\n",
    "train_hash = hasher.transform(X_train[high_card_cols].astype(str).to_dict(orient='records'))\n",
    "test_hash = hasher.transform(X_test[high_card_cols].astype(str).to_dict(orient='records'))\n",
    "\n"
   ]
  },
  {
   "cell_type": "markdown",
   "id": "af67ee82",
   "metadata": {},
   "source": [
    "##### Feature scaling"
   ]
  },
  {
   "cell_type": "code",
   "execution_count": 44,
   "id": "81207f6d",
   "metadata": {},
   "outputs": [
    {
     "name": "stdout",
     "output_type": "stream",
     "text": [
      "Train shape: (857780, 395)\n",
      "Test shape: (214446, 395)\n"
     ]
    }
   ],
   "source": [
    "from scipy import sparse\n",
    "from scipy.sparse import hstack\n",
    "from sklearn.preprocessing import StandardScaler\n",
    "\n",
    "# Scaling numeric features BEFORE combining\n",
    "scaler = StandardScaler()\n",
    "scaled_train_numeric = scaler.fit_transform(X_train[num_features].values)\n",
    "scaled_test_numeric = scaler.transform(X_test[num_features].values)\n",
    "\n",
    "X_train = hstack([\n",
    "    sparse.csr_matrix(X_train[num_features].values),  # numeric features\n",
    "    train_target_encoded,                               # target-encoded features\n",
    "    train_ohe,                                         # low-cardinality OHE features\n",
    "    train_hash,                                        # high-cardinality hashed features\n",
    "    sparse.csr_matrix(X_train[known_features].values)    # the 4 binary features\n",
    "])\n",
    "\n",
    "X_test = hstack([\n",
    "    sparse.csr_matrix(X_test[num_features].values),\n",
    "    test_target_encoded,\n",
    "    test_ohe,\n",
    "    test_hash,\n",
    "    sparse.csr_matrix(X_test[known_features].values)\n",
    "])\n",
    "\n",
    "\n",
    "\n",
    "print(\"Train shape:\", X_train.shape)\n",
    "print(\"Test shape:\", X_test.shape)"
   ]
  },
  {
   "cell_type": "markdown",
   "id": "abf1aa0f",
   "metadata": {},
   "source": [
    "## Applying SMOTE to upsample minority class(click = 1)"
   ]
  },
  {
   "cell_type": "code",
   "execution_count": 45,
   "id": "3d298038",
   "metadata": {},
   "outputs": [
    {
     "name": "stdout",
     "output_type": "stream",
     "text": [
      "Collecting imbalanced-learn\n",
      "  Downloading imbalanced_learn-0.14.0-py3-none-any.whl.metadata (8.8 kB)\n",
      "Requirement already satisfied: numpy<3,>=1.25.2 in c:\\users\\2502h\\anaconda3\\envs\\fairjob\\lib\\site-packages (from imbalanced-learn) (2.1.3)\n",
      "Requirement already satisfied: scipy<2,>=1.11.4 in c:\\users\\2502h\\anaconda3\\envs\\fairjob\\lib\\site-packages (from imbalanced-learn) (1.15.3)\n",
      "Requirement already satisfied: scikit-learn<2,>=1.4.2 in c:\\users\\2502h\\anaconda3\\envs\\fairjob\\lib\\site-packages (from imbalanced-learn) (1.6.1)\n",
      "Requirement already satisfied: joblib<2,>=1.2.0 in c:\\users\\2502h\\anaconda3\\envs\\fairjob\\lib\\site-packages (from imbalanced-learn) (1.5.2)\n",
      "Requirement already satisfied: threadpoolctl<4,>=2.0.0 in c:\\users\\2502h\\anaconda3\\envs\\fairjob\\lib\\site-packages (from imbalanced-learn) (3.5.0)\n",
      "Downloading imbalanced_learn-0.14.0-py3-none-any.whl (239 kB)\n",
      "Installing collected packages: imbalanced-learn\n",
      "Successfully installed imbalanced-learn-0.14.0\n",
      "Note: you may need to restart the kernel to use updated packages.\n"
     ]
    },
    {
     "name": "stderr",
     "output_type": "stream",
     "text": [
      "WARNING: Ignoring invalid distribution ~atplotlib (c:\\Users\\2502h\\anaconda3\\envs\\fairjob\\Lib\\site-packages)\n",
      "WARNING: Ignoring invalid distribution ~atplotlib (c:\\Users\\2502h\\anaconda3\\envs\\fairjob\\Lib\\site-packages)\n",
      "WARNING: Ignoring invalid distribution ~atplotlib (c:\\Users\\2502h\\anaconda3\\envs\\fairjob\\Lib\\site-packages)\n"
     ]
    }
   ],
   "source": [
    "pip install imbalanced-learn"
   ]
  },
  {
   "cell_type": "code",
   "execution_count": 47,
   "id": "51ba1f67",
   "metadata": {},
   "outputs": [
    {
     "name": "stdout",
     "output_type": "stream",
     "text": [
      "Before SMOTE: click\n",
      "0    851789\n",
      "1      5991\n",
      "Name: count, dtype: int64\n",
      "After SMOTE: click\n",
      "0    851789\n",
      "1    851789\n",
      "Name: count, dtype: int64\n",
      "Resampled X shape: (1703578, 395)\n"
     ]
    }
   ],
   "source": [
    "from imblearn.over_sampling import SMOTE\n",
    "\n",
    "# Initialize SMOTE\n",
    "smote = SMOTE(\n",
    "    sampling_strategy='minority',   # determines how much to oversample\n",
    "    random_state=42,            # for reproducibility\n",
    "    k_neighbors=5        \n",
    ")\n",
    "\n",
    "# Apply SMOTE only to the training data\n",
    "X_train_res, y_train_res = smote.fit_resample(X_train, y_train)\n",
    "\n",
    "print(\"Before SMOTE:\", y_train.value_counts())\n",
    "print(\"After SMOTE:\", y_train_res.value_counts())\n",
    "print(\"Resampled X shape:\", X_train_res.shape)\n"
   ]
  },
  {
   "cell_type": "markdown",
   "id": "84983c01",
   "metadata": {},
   "source": [
    "## Dimensionality reduction"
   ]
  },
  {
   "cell_type": "code",
   "execution_count": 49,
   "id": "151068f3",
   "metadata": {},
   "outputs": [
    {
     "name": "stdout",
     "output_type": "stream",
     "text": [
      "Original shape: (1703578, 395)\n",
      "Reduced shape: (1703578, 100)\n"
     ]
    }
   ],
   "source": [
    "from sklearn.decomposition import TruncatedSVD\n",
    "\n",
    "# Choose number of components (e.g., reduce to 100 features)\n",
    "n_components = 100\n",
    "svd = TruncatedSVD(n_components=n_components, random_state=42)\n",
    "\n",
    "# Fit on training data and transform both train and test\n",
    "X_train_reduced = svd.fit_transform(X_train_res)\n",
    "X_test_reduced = svd.transform(X_test)\n",
    "\n",
    "print(\"Original shape:\", X_train_res.shape)\n",
    "print(\"Reduced shape:\", X_train_reduced.shape)\n"
   ]
  },
  {
   "cell_type": "code",
   "execution_count": 50,
   "id": "36ae2796",
   "metadata": {},
   "outputs": [
    {
     "name": "stdout",
     "output_type": "stream",
     "text": [
      "Total variance retained: 0.9925389277444838\n"
     ]
    }
   ],
   "source": [
    "explained_variance = svd.explained_variance_ratio_.sum()\n",
    "print(\"Total variance retained:\", explained_variance)\n"
   ]
  },
  {
   "cell_type": "code",
   "execution_count": null,
   "id": "6b2839f3",
   "metadata": {},
   "outputs": [],
   "source": []
  }
 ],
 "metadata": {
  "kernelspec": {
   "display_name": "fairjob",
   "language": "python",
   "name": "python3"
  },
  "language_info": {
   "codemirror_mode": {
    "name": "ipython",
    "version": 3
   },
   "file_extension": ".py",
   "mimetype": "text/x-python",
   "name": "python",
   "nbconvert_exporter": "python",
   "pygments_lexer": "ipython3",
   "version": "3.12.9"
  }
 },
 "nbformat": 4,
 "nbformat_minor": 5
}
